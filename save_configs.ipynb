{
 "cells": [
  {
   "cell_type": "markdown",
   "metadata": {},
   "source": [
    "# Save training properties to json"
   ]
  },
  {
   "cell_type": "code",
   "execution_count": 1,
   "metadata": {},
   "outputs": [],
   "source": [
    "import json"
   ]
  },
  {
   "cell_type": "code",
   "execution_count": 2,
   "metadata": {},
   "outputs": [],
   "source": [
    "training_properties = {\n",
    "    \"learning_rate\": 0.0005, \n",
    "    \"weight_decay\": 1e-10,\n",
    "    \"scheduler_step\": 10,\n",
    "    \"scheduler_gamma\": 0.98,\n",
    "    \"epochs\": 500,\n",
    "    \"batch_size\": 16,\n",
    "    \"exp\": 1, #Do we use L1 or L2 errors? Default: L1\n",
    "    \"training_samples\": 256, #How many training samples?\n",
    "}\n",
    "\n",
    "\n",
    "model_architecture_ = {\n",
    "       \n",
    "    #----------------------------------------------------------------------\n",
    "    #Parameters to be chosen with model selection:\n",
    "            \n",
    "    \"N_layers\": 6, #Number of (D) + (U) layers. In our experiments, N_layers must be even.\n",
    "    \"kernel_size\": 3, #Kernel size.\n",
    "    \"channel_multiplier\": 32, #Parameter d_e (how the number of channels changes)\n",
    "        \n",
    "    \"N_res\": 6, #Number of (R) blocks.\n",
    "    \"res_len\": 2, #Coefficienr r in (R) definition.\n",
    "        \n",
    "    #----------------------------------------------------------------------\n",
    "    #Parameters that depend on the problem: \n",
    "        \n",
    "    \"in_size\": 64, #Resolution of the computational grid\n",
    "    \"retrain\": 4, #Random seed\n",
    "        \n",
    "    #----------------------------------------------------------------------\n",
    "    #We fix the following parameters:\n",
    "        \n",
    "    #Filter properties:\n",
    "    \"cutoff_den\": 2.0001, #\n",
    "    \"lrelu_upsampling\": 2, #Coefficient N_{\\sigma}. Default is 2.\n",
    "    \"half_width_mult\": 1, #Coefficient c_h. Default is 1\n",
    "    \"filter_size\": 6, # 2xfilter_size is the number of taps N_{tap}. Default is 6.\n",
    "    \"radial_filter\": 0, #Is the filter radially symmetric? Default is 0 - NO.\n",
    "\n",
    "    \"FourierF\": 0, #Number of Fourier Features in the input channels. Default is 0.\n",
    "\n",
    "    #----------------------------------------------------------------------\n",
    "}\n",
    "\n",
    "fno_architecture_ = {\n",
    "    \"width\": 32,\n",
    "    \"modes\": 16,\n",
    "    \"FourierF\" : 0, #Number of Fourier Features in the input channels. Default is 0.\n",
    "    \"n_layers\": 2, #Number of Fourier layers\n",
    "    \"retrain\": 4, #Random seed\n",
    "}"
   ]
  },
  {
   "cell_type": "code",
   "execution_count": 8,
   "metadata": {},
   "outputs": [],
   "source": [
    "with open(\"training_properties.json\", \"w+\") as f:\n",
    "    f.write(json.dumps(training_properties, sort_keys=True, indent=4))\n",
    "\n",
    "with open(\"model_architecture.json\", \"w+\") as f:\n",
    "    f.write(json.dumps(model_architecture_, sort_keys=True, indent=4))\n",
    "\n",
    "with open(\"fno_architecture.json\", \"w+\") as f:\n",
    "    f.write(json.dumps(fno_architecture_, sort_keys=True, indent=4))"
   ]
  },
  {
   "cell_type": "code",
   "execution_count": 9,
   "metadata": {},
   "outputs": [
    {
     "name": "stdout",
     "output_type": "stream",
     "text": [
      "Unexpected exception formatting exception. Falling back to standard exception\n"
     ]
    },
    {
     "name": "stderr",
     "output_type": "stream",
     "text": [
      "Traceback (most recent call last):\n",
      "  File \"/Users/jan/Library/Python/3.8/lib/python/site-packages/IPython/core/interactiveshell.py\", line 3508, in run_code\n",
      "    exec(code_obj, self.user_global_ns, self.user_ns)\n",
      "  File \"/var/folders/35/vx5qdybs5bs3x_hw3ft67ljw0000gn/T/ipykernel_27692/2767115384.py\", line 1, in <module>\n",
      "    json.loads(\"training_properties.json\")\n",
      "  File \"/opt/homebrew/Cellar/python@3.8/3.8.18/Frameworks/Python.framework/Versions/3.8/lib/python3.8/json/__init__.py\", line 357, in loads\n",
      "    return _default_decoder.decode(s)\n",
      "  File \"/opt/homebrew/Cellar/python@3.8/3.8.18/Frameworks/Python.framework/Versions/3.8/lib/python3.8/json/decoder.py\", line 337, in decode\n",
      "    obj, end = self.raw_decode(s, idx=_w(s, 0).end())\n",
      "  File \"/opt/homebrew/Cellar/python@3.8/3.8.18/Frameworks/Python.framework/Versions/3.8/lib/python3.8/json/decoder.py\", line 355, in raw_decode\n",
      "    raise JSONDecodeError(\"Expecting value\", s, err.value) from None\n",
      "json.decoder.JSONDecodeError: Expecting value: line 1 column 1 (char 0)\n",
      "\n",
      "During handling of the above exception, another exception occurred:\n",
      "\n",
      "Traceback (most recent call last):\n",
      "  File \"/Users/jan/Library/Python/3.8/lib/python/site-packages/IPython/core/interactiveshell.py\", line 2105, in showtraceback\n",
      "    stb = self.InteractiveTB.structured_traceback(\n",
      "  File \"/Users/jan/Library/Python/3.8/lib/python/site-packages/IPython/core/ultratb.py\", line 1396, in structured_traceback\n",
      "    return FormattedTB.structured_traceback(\n",
      "  File \"/Users/jan/Library/Python/3.8/lib/python/site-packages/IPython/core/ultratb.py\", line 1287, in structured_traceback\n",
      "    return VerboseTB.structured_traceback(\n",
      "  File \"/Users/jan/Library/Python/3.8/lib/python/site-packages/IPython/core/ultratb.py\", line 1140, in structured_traceback\n",
      "    formatted_exception = self.format_exception_as_a_whole(etype, evalue, etb, number_of_lines_of_context,\n",
      "  File \"/Users/jan/Library/Python/3.8/lib/python/site-packages/IPython/core/ultratb.py\", line 1030, in format_exception_as_a_whole\n",
      "    self.get_records(etb, number_of_lines_of_context, tb_offset) if etb else []\n",
      "  File \"/Users/jan/Library/Python/3.8/lib/python/site-packages/IPython/core/ultratb.py\", line 1082, in get_records\n",
      "    style = stack_data.style_with_executing_node(style, self._tb_highlight)\n",
      "  File \"/Users/jan/Library/Python/3.8/lib/python/site-packages/stack_data/core.py\", line 455, in style_with_executing_node\n",
      "    class NewStyle(style):\n",
      "  File \"/opt/homebrew/lib/python3.8/site-packages/pygments/style.py\", line 91, in __new__\n",
      "    ndef[4] = colorformat(styledef[3:])\n",
      "  File \"/opt/homebrew/lib/python3.8/site-packages/pygments/style.py\", line 58, in colorformat\n",
      "    assert False, \"wrong color format %r\" % text\n",
      "AssertionError: wrong color format 'ansiyellow'\n"
     ]
    }
   ],
   "source": [
    "json.loads(\"training_properties.json\")"
   ]
  },
  {
   "cell_type": "code",
   "execution_count": null,
   "metadata": {},
   "outputs": [],
   "source": []
  }
 ],
 "metadata": {
  "kernelspec": {
   "display_name": "Python 3",
   "language": "python",
   "name": "python3"
  },
  "language_info": {
   "codemirror_mode": {
    "name": "ipython",
    "version": 3
   },
   "file_extension": ".py",
   "mimetype": "text/x-python",
   "name": "python",
   "nbconvert_exporter": "python",
   "pygments_lexer": "ipython3",
   "version": "3.8.18"
  }
 },
 "nbformat": 4,
 "nbformat_minor": 2
}
